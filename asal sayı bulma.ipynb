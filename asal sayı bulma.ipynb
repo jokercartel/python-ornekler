{
  "nbformat": 4,
  "nbformat_minor": 0,
  "metadata": {
    "colab": {
      "provenance": [],
      "authorship_tag": "ABX9TyPO1FetZDUtutoa6SHtwAEZ",
      "include_colab_link": true
    },
    "kernelspec": {
      "name": "python3",
      "display_name": "Python 3"
    },
    "language_info": {
      "name": "python"
    }
  },
  "cells": [
    {
      "cell_type": "markdown",
      "metadata": {
        "id": "view-in-github",
        "colab_type": "text"
      },
      "source": [
        "<a href=\"https://colab.research.google.com/github/jokercartel/python-ornekler/blob/main/asal%20say%C4%B1%20bulma.ipynb\" target=\"_parent\"><img src=\"https://colab.research.google.com/assets/colab-badge.svg\" alt=\"Open In Colab\"/></a>"
      ]
    },
    {
      "source": [
        "def asal_mi(sayi):\n",
        "  \"\"\"\n",
        "  Bir sayının asal olup olmadığını kontrol eder.\n",
        "\n",
        "  Args:\n",
        "    sayi: Kontrol edilecek sayı.\n",
        "\n",
        "  Returns:\n",
        "    Sayı asal ise True, değilse False.\n",
        "  \"\"\"\n",
        "  if sayi <= 1:\n",
        "    return False\n",
        "  elif sayi <= 3:\n",
        "    return True\n",
        "  elif sayi % 2 == 0 or sayi % 3 == 0:\n",
        "    return False\n",
        "  i = 5\n",
        "  while i * i <= sayi:\n",
        "    if sayi % i == 0 or sayi % (i + 2) == 0:\n",
        "      return False\n",
        "    i += 6\n",
        "  return True\n",
        "\n",
        "while True:\n",
        "  girdi = input(\"Bir sayı girin: \")\n",
        "  if girdi.isdigit():\n",
        "    sayi = int(girdi)\n",
        "    break\n",
        "  else:\n",
        "    print(\"Lütfen bir sayı girin.\")\n",
        "\n",
        "if asal_mi(sayi):\n",
        "  print(sayi, \"asal bir sayıdır.\")\n",
        "else:\n",
        "  print(sayi, \"asal bir sayı değildir.\")"
      ],
      "cell_type": "code",
      "metadata": {
        "colab": {
          "base_uri": "https://localhost:8080/"
        },
        "id": "0u7RFSAsabXh",
        "outputId": "0aaf57db-41a0-418e-ea9c-d7c669f7fd30"
      },
      "execution_count": 4,
      "outputs": [
        {
          "output_type": "stream",
          "name": "stdout",
          "text": [
            "Bir sayı girin: jhgdfjhfsd\n",
            "Lütfen bir sayı girin.\n",
            "Bir sayı girin: fsfsddsf\n",
            "Lütfen bir sayı girin.\n",
            "Bir sayı girin: fdsfsdf\n",
            "Lütfen bir sayı girin.\n",
            "Bir sayı girin: 1489\n",
            "1489 asal bir sayıdır.\n"
          ]
        }
      ]
    }
  ]
}