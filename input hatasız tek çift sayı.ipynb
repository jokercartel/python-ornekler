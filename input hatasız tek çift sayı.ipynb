{
  "nbformat": 4,
  "nbformat_minor": 0,
  "metadata": {
    "colab": {
      "provenance": [],
      "authorship_tag": "ABX9TyNB8jKiVKN+tdoV42jHXh5k",
      "include_colab_link": true
    },
    "kernelspec": {
      "name": "python3",
      "display_name": "Python 3"
    },
    "language_info": {
      "name": "python"
    }
  },
  "cells": [
    {
      "cell_type": "markdown",
      "metadata": {
        "id": "view-in-github",
        "colab_type": "text"
      },
      "source": [
        "<a href=\"https://colab.research.google.com/github/jokercartel/python-ornekler/blob/main/input%20hatas%C4%B1z%20tek%20%C3%A7ift%20say%C4%B1.ipynb\" target=\"_parent\"><img src=\"https://colab.research.google.com/assets/colab-badge.svg\" alt=\"Open In Colab\"/></a>"
      ]
    },
    {
      "cell_type": "code",
      "source": [
        "import re\n",
        "\n",
        "b=True\n",
        "print(\"çıkmak için q tuşuna basınız\")\n",
        "while b:\n",
        "    a=input(\"bir sayı giriniz : \")\n",
        "    if a==\"q\" or a==\"Q\":\n",
        "        b=False\n",
        "    regex=r\"\\d+\"\n",
        "    if re.match(regex,a):\n",
        "        if int(a)%2==0:\n",
        "            print(\"girilen {} sayısı çift sayıdır\".format(a))\n",
        "        else:\n",
        "            print(\"girilen {} sayısı tek sayıdır\".format(a))\n",
        "\n",
        ""
      ],
      "metadata": {
        "colab": {
          "base_uri": "https://localhost:8080/"
        },
        "id": "VxiyPez6pUcp",
        "outputId": "eb5d695c-a984-40ad-b01d-635bd3a21c5a"
      },
      "execution_count": 101,
      "outputs": [
        {
          "name": "stdout",
          "output_type": "stream",
          "text": [
            "çıkmak için q tuşuna basınız\n",
            "bir sayı giriniz : q\n"
          ]
        }
      ]
    }
  ]
}