{
  "nbformat": 4,
  "nbformat_minor": 0,
  "metadata": {
    "colab": {
      "provenance": [],
      "authorship_tag": "ABX9TyM9S2Z/KTtiZuAmvAOADLB/",
      "include_colab_link": true
    },
    "kernelspec": {
      "name": "python3",
      "display_name": "Python 3"
    },
    "language_info": {
      "name": "python"
    }
  },
  "cells": [
    {
      "cell_type": "markdown",
      "metadata": {
        "id": "view-in-github",
        "colab_type": "text"
      },
      "source": [
        "<a href=\"https://colab.research.google.com/github/jokercartel/python-ornekler/blob/main/input%20hata%20onleme.ipynb\" target=\"_parent\"><img src=\"https://colab.research.google.com/assets/colab-badge.svg\" alt=\"Open In Colab\"/></a>"
      ]
    },
    {
      "cell_type": "code",
      "execution_count": 53,
      "metadata": {
        "colab": {
          "base_uri": "https://localhost:8080/"
        },
        "id": "p-Ws8cimPEKH",
        "outputId": "21c3680a-74c6-404c-8df1-3431d2918e87"
      },
      "outputs": [
        {
          "output_type": "stream",
          "name": "stdout",
          "text": [
            "bir sayı giriniz : hgdds\n",
            "bir sayı giriniz : jjhgfd\n",
            "bir sayı giriniz : \n",
            "bir sayı giriniz : 15\n",
            "girilen 15 sayısı tek sayıdır\n"
          ]
        }
      ],
      "source": [
        "import re\n",
        "\n",
        "b=True\n",
        "while b:\n",
        "    a=input(\"bir sayı giriniz : \")\n",
        "    regex=r\"\\d+\"\n",
        "    if re.match(regex,a):\n",
        "        if int(a)%2==0:\n",
        "            print(\"girilen {} sayısı çift sayıdır\".format(a))\n",
        "        else:\n",
        "            print(\"girilen {} sayısı tek sayıdır\".format(a))\n",
        "        #b=False (bu kod yada break kullanılabilir)\n",
        "        break\n",
        ""
      ]
    }
  ]
}