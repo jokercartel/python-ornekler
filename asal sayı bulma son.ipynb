{
  "nbformat": 4,
  "nbformat_minor": 0,
  "metadata": {
    "colab": {
      "provenance": [],
      "authorship_tag": "ABX9TyNFAtAITDDuJuiw1kOV4D2E",
      "include_colab_link": true
    },
    "kernelspec": {
      "name": "python3",
      "display_name": "Python 3"
    },
    "language_info": {
      "name": "python"
    }
  },
  "cells": [
    {
      "cell_type": "markdown",
      "metadata": {
        "id": "view-in-github",
        "colab_type": "text"
      },
      "source": [
        "<a href=\"https://colab.research.google.com/github/jokercartel/python-ornekler/blob/main/asal%20say%C4%B1%20bulma%20son.ipynb\" target=\"_parent\"><img src=\"https://colab.research.google.com/assets/colab-badge.svg\" alt=\"Open In Colab\"/></a>"
      ]
    },
    {
      "source": [
        "def asal_mi(sayi):\n",
        "  \"\"\"\n",
        "  Bir sayının asal olup olmadığını kontrol eder.\n",
        "\n",
        "  Args:\n",
        "    sayi: Kontrol edilecek sayı.\n",
        "\n",
        "  Returns:\n",
        "    Sayı asal ise True, değilse False.\n",
        "  \"\"\"\n",
        "  if sayi <= 1:\n",
        "    return False\n",
        "  elif sayi <= 3:\n",
        "    return True\n",
        "  elif sayi % 2 == 0 or sayi % 3 == 0:\n",
        "    return False\n",
        "  i = 5\n",
        "  while i * i <= sayi:\n",
        "    if sayi % i == 0 or sayi % (i + 2) == 0:\n",
        "      return False\n",
        "    i += 6\n",
        "  return True\n",
        "\n",
        "while True:\n",
        "  girdi = input(\"Bir sayı girin (Çıkmak için 'q' veya 'Q' yazın): \")\n",
        "  if girdi.lower() == 'q':\n",
        "    break\n",
        "  elif girdi.isdigit():\n",
        "    sayi = int(girdi)\n",
        "    if asal_mi(sayi):\n",
        "      print(sayi, \"asal bir sayıdır.\")\n",
        "    else:\n",
        "      print(sayi, \"asal bir sayı değildir.\")\n",
        "  else:\n",
        "    print(\"Lütfen bir sayı girin veya çıkmak için 'q' veya 'Q' yazın.\")"
      ],
      "cell_type": "code",
      "metadata": {
        "colab": {
          "base_uri": "https://localhost:8080/"
        },
        "id": "yrpIgrsTcOx4",
        "outputId": "951a1320-c5fe-42fe-86c6-39fbc2fe4131"
      },
      "execution_count": 5,
      "outputs": [
        {
          "name": "stdout",
          "output_type": "stream",
          "text": [
            "Bir sayı girin (Çıkmak için 'q' veya 'Q' yazın): kjhsdkjf\n",
            "Lütfen bir sayı girin veya çıkmak için 'q' veya 'Q' yazın.\n",
            "Bir sayı girin (Çıkmak için 'q' veya 'Q' yazın): lkıdjljkds\n",
            "Lütfen bir sayı girin veya çıkmak için 'q' veya 'Q' yazın.\n",
            "Bir sayı girin (Çıkmak için 'q' veya 'Q' yazın): 1489\n",
            "1489 asal bir sayıdır.\n",
            "Bir sayı girin (Çıkmak için 'q' veya 'Q' yazın): q\n"
          ]
        }
      ]
    }
  ]
}